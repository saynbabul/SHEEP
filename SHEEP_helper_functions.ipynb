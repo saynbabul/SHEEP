{
 "cells": [
  {
   "cell_type": "code",
   "execution_count": 3,
   "metadata": {},
   "outputs": [],
   "source": [
    "import numpy as np\n",
    "import matplotlib.pyplot as plt\n",
    "%matplotlib inline\n",
    "import networkx as nx\n",
    "import pandas as pd\n",
    "import random\n",
    "import scipy"
   ]
  },
  {
   "cell_type": "code",
   "execution_count": 10,
   "metadata": {},
   "outputs": [
    {
     "data": {
      "text/plain": [
       "<matplotlib.colorbar.Colorbar at 0x7fba9aa984c0>"
      ]
     },
     "execution_count": 10,
     "metadata": {},
     "output_type": "execute_result"
    },
    {
     "data": {
      "image/png": "[encoded data removed]",
      "text/plain": [
       "<Figure size 432x288 with 2 Axes>"
      ]
     },
     "metadata": {
      "needs_background": "light"
     },
     "output_type": "display_data"
    }
   ],
   "source": [
    "#function to return a signed stochastic block model (SSBM)\n",
    "\n",
    "#number of nodes \n",
    "N = 30\n",
    "\n",
    "#number of communities \n",
    "k = 3\n",
    "\n",
    "#noise parameter (sign flip)\n",
    "thresh = 1\n",
    "\n",
    "#probability matrix - experiment with this, asymmetry gives interesting results \n",
    "\n",
    "#for a 3 community \n",
    "probs = [[0.5, 0.5, 0.5], [0.5, 0.5, 0.5], [0.5, 0.5, 0.5]]\n",
    "\n",
    "def signed_SBM_parameters(N, k, probs, thresh): \n",
    "    clus_size = int(N/k)\n",
    "    numbers = (np.ones(k)*clus_size).astype(int)\n",
    "    #probs = (np.ones((k,k))*pval)\n",
    "    \n",
    "    G = nx.stochastic_block_model(numbers, probs)\n",
    "\n",
    "    co = []\n",
    "    \n",
    "    for i in range(k):\n",
    "        co.extend(np.ones(clus_size)*(i))\n",
    "\n",
    "    for u,v in G.edges(): \n",
    "        if co[u] == co[v]:\n",
    "            test = np.random.uniform(0,1)\n",
    "            if test < thresh: \n",
    "           \n",
    "                G.edges[u,v][\"weight\"] = 1\n",
    "            else:\n",
    "                G.edges[u,v][\"weight\"] = -1\n",
    "        else:\n",
    "            test = np.random.uniform(0,1)\n",
    "            if test < thresh:\n",
    "                G.edges[u,v][\"weight\"] = -1\n",
    "            else: \n",
    "                G.edges[u,v][\"weight\"] = 1\n",
    "                \n",
    "    return G, co\n",
    "\n",
    "G, co = signed_SBM_parameters(N, k, probs, thresh)\n",
    "\n",
    "#look at the adjacecy matrix of this graph\n",
    "plt.imshow(nx.to_numpy_array(G),cmap=plt.cm.jet)  \n",
    "plt.colorbar()"
   ]
  },
  {
   "cell_type": "code",
   "execution_count": 11,
   "metadata": {},
   "outputs": [],
   "source": [
    "#returns the repelling Laplacian of graph G (networkx graph object)\n",
    "#the input should be an unweighted signed graph, but code can be changed to accept weighted graph \n",
    "\n",
    "def repelling_lap(G):\n",
    "\n",
    "    selected_edges = [(u,v) for u,v in G.edges if G[u][v]['weight'] == -1]\n",
    "\n",
    "    G_neg = nx.Graph()\n",
    "    G_neg.add_nodes_from(G)\n",
    "    G_neg.add_edges_from(selected_edges)\n",
    "    degree_neg = [val for (node, val) in G_neg.degree()]\n",
    "    D_neg = np.diag(degree_neg)\n",
    "\n",
    "    selected_edges = [(u,v) for u,v in G.edges if G[u][v]['weight'] == 1]\n",
    "\n",
    "    G_pos = nx.Graph()\n",
    "    G_pos.add_nodes_from(G)\n",
    "    G_pos.add_edges_from(selected_edges)\n",
    "    degree_pos = [val for (node, val) in G_pos.degree()]\n",
    "    D_pos = np.diag(degree_pos)\n",
    "    \n",
    "    A = nx.to_numpy_array(G)\n",
    "    \n",
    "    return D_pos - D_neg - A\n",
    "\n",
    "\n",
    "#function to return null model of signed graph (keep toplogy, re-shuffle edge signs)\n",
    "\n",
    "def null_graph_signed(G): \n",
    "    d = nx.get_edge_attributes(G, \"weight\")\n",
    "    \n",
    "    shuffled = list(d.values())\n",
    "    random.shuffle(shuffled)\n",
    "    shuf_signs = dict(zip(d, shuffled))\n",
    "    \n",
    "    H = nx.Graph()\n",
    "    H.add_nodes_from(G)\n",
    "    H.add_edges_from(G.edges)\n",
    "    \n",
    "    nx.set_edge_attributes(H, shuf_signs, \"weight\")   \n",
    "    \n",
    "    return H"
   ]
  },
  {
   "cell_type": "code",
   "execution_count": 12,
   "metadata": {},
   "outputs": [],
   "source": [
    "#functions to help return the optimal dimension of the graph \n",
    "\n",
    "def dist(P):\n",
    "    a = 0\n",
    "    for i in range(k):\n",
    "        a = a + (P[:,i]-P[:,i][:,np.newaxis])**2\n",
    "    return np.sqrt(a)\n",
    "\n",
    "#inputs P is the positions of the nodes (found using eigenvalues of repelling Laplacian) and A, the adjacency matrix of graph \n",
    "def energy_repelling_lap_norm(P,A):\n",
    "    \n",
    "    P = P.reshape((-1, k))\n",
    "    D_un = dist(P)**2  \n",
    "    norm = np.sqrt(np.sum(D_un**2))\n",
    "    D = D_un/norm  \n",
    "    \n",
    "    energy = np.multiply(D, A).sum()\n",
    "\n",
    "    return energy"
   ]
  },
  {
   "cell_type": "code",
   "execution_count": 14,
   "metadata": {},
   "outputs": [
    {
     "name": "stdout",
     "output_type": "stream",
     "text": [
      "10\n",
      "(array([1]),)\n"
     ]
    },
    {
     "data": {
      "image/png": "[encoded data removed]",
      "text/plain": [
       "<Figure size 432x288 with 1 Axes>"
      ]
     },
     "metadata": {
      "needs_background": "light"
     },
     "output_type": "display_data"
    }
   ],
   "source": [
    "#get the repelling Laplacian of graph G \n",
    "Lr = repelling_lap(G)\n",
    "A = nx.to_numpy_array(G)\n",
    "val, vect = np.linalg.eigh(Lr)\n",
    "\n",
    "#find the minimum of the dimension required \n",
    "k_max = 10\n",
    "dims = np.arange(k_max) + 1\n",
    "energy = []\n",
    "for i in range(k_max):\n",
    "    k = i + 1\n",
    "    energy.append(energy_repelling_lap_norm(vect[:,0:k], A))\n",
    "    if k%10 == 0: \n",
    "        print(k)\n",
    "plt.plot(dims, energy)\n",
    "\n",
    "print(np.where(energy == min(energy)))"
   ]
  },
  {
   "cell_type": "code",
   "execution_count": null,
   "metadata": {},
   "outputs": [],
   "source": []
  }
 ],
 "metadata": {
  "kernelspec": {
   "display_name": "Python 3",
   "language": "python",
   "name": "python3"
  },
  "language_info": {
   "codemirror_mode": {
    "name": "ipython",
    "version": 3
   },
   "file_extension": ".py",
   "mimetype": "text/x-python",
   "name": "python",
   "nbconvert_exporter": "python",
   "pygments_lexer": "ipython3",
   "version": "3.8.5"
  }
 },
 "nbformat": 4,
 "nbformat_minor": 4
}
